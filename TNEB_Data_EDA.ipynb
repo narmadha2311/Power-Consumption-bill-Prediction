# %%
import pandas as pd
import matplotlib.pyplot as mp
import seaborn as sns
df = pd.read_excel('~/Documents/tneb_bill.xlsx',dtype={"Date": str})

df1 = df.copy()
df1['Date'] = (pd.to_datetime(df1['Date'], infer_datetime_format=True)
                .dt.strftime('%Y-%d-%m'))

df1.loc[df1['Date'] == '2022-14-09', 'Date'] = '2022-09-14'
df1.loc[df1['Date'] == '2022-13-07', 'Date'] = '2022-07-13'


df1['Date'] = pd.to_datetime(df1['Date'],format='%Y-%m-%d')
df1['Month'] = df1['Date'].apply(lambda x:x.strftime('%B'))
df1['Year'] = df1['Date'].dt.year
#df1['Month'] = df1['Date'].strftime('%B')
print(df1.Year)



# %% [markdown]
# Explanation about columns 
# # Date/Entry Date - Date on which reading was take and entry Date is date when reading is fed into the system 
# # CC Charges - Current Cosumption Charges 
# # Status - whther bill is paid or not 
# # Kilowatt-hour (kWh) is a unit of measurement that indicates how much electricity you've used in a given period
# # in Units - No of units rAn 
# # recorded demand - the highest level of power usage (in kilowatts) recorded by your meter during a specific billing period
# # Fixed Charges - ammount to be added 
# # due date - last date for bill payment 
# # Amount paid - total amount paid 
# # Receipt No 
# # Date.1 - date of bill payment 

# %%
# Lets do some EDA 
#dropping few columns of no use 
df1.drop(['Entry Date','Date.1','Receipt No','Status','Date.1'],axis=1,inplace=True)
df1.columns = df1.columns.str.replace(' ','_')
#df1[['Date','Due Date']] = df1[['Date','Due Date']].apply(pd.to_datetime, errors='coerce')

# %%

df1.info()
df1.shape
df1.head(20)

#Our dataset s very small , having the shape 24x9, we started with 13 columns and removed unncessary columns and reduced to 10 now 


# %%


# %%
#lets understand the data , EDA 

sns.barplot(data = df1,x='Month',y='CC_Charges',hue ='Year' )
mp.show()

# %%
sns.scatterplot(data=df1,x='in_Units',y='CC_Charges')

# %%
sns.lineplot(data=df1,x='Month',y='KWH',hue='Year')

# %%
sns.lineplot(data=df1,x='CC_Charges',y='Recorded_Deamnd',hue='Year')

# %%
print("Maximum amount paid : {} " .format(df1[df1['CC_Charges']== df1['CC_Charges'].max(axis=0)]))
print("Minimum amount paid : {} " .format(df1[df1['CC_Charges']== df1['CC_Charges'].min(axis=0)]))
print("Maximum Units utilized : {} " .format(df1[df1['in_Units']== df1['in_Units'].max(axis=0)]))


# %% [markdown]
# from the above plots, I  understood below things 
# 1. in_Units feature is liner with target feature (CC_Charges), (CC_charges increases with increase in "in_Units")
# 2. Every Year , CC_charges(BILL) is very high in the month of may and july 
# 3. TWH (Total Watt Hour), increases 5000 with every year 
# 4. max bill paid is 8453, with unit of 1173 and KWH of 12817 in the year 2024, may
# 5. minimum bill paid is 980rs with unit ran of 460 and KWH of 0 in the year 2021, may (Covid time)
# 5. max unit reached is 1220 with KWH of 3100 and rs paid is 6532 
# 6. KWH s not linear with CC_Charges 
# 7. recorded demand is high 4.9 thriughout the year 2022 only 
# 

# %%
#removing unwanted and repetitive feature
df1.drop(['Date','Amount_Paid','Amount_To_Be_Paid','Due_Date','Fixed_Charges'],axis=1,inplace=True)

# %%
df1.info()

# %%
from sklearn.preprocessing import LabelEncoder
le = LabelEncoder()
df1.Month = le.fit_transform(df1.Month.values)

# %%

import numpy as np
from scipy import stats
# transform training data & save lambda value
fitted_data, fitted_lambda = stats.boxcox(df1['KWH'])
 
# creating axes to draw plots
fig, ax = plt.subplots(1, 2)
 
# plotting the original data(non-normal) and 
# fitted data (normal)
sns.distplot(df1, hist = False, kde = True,
            kde_kws = {'shade': True, 'linewidth': 2}, 
            label = "Non-Normal", color ="green", ax = ax[0])
 
sns.distplot(fitted_data, hist = False, kde = True,
            kde_kws = {'shade': True, 'linewidth': 2}, 
            label = "Normal", color ="green", ax = ax[1])
 
# adding legends to the subplots
plt.legend(loc = "upper right")
 
# rescaling the subplots
fig.set_figheight(5)
fig.set_figwidth(10)
 
print(f"Lambda value used for Transformation: {fitted_lambda}")

# %%
def normality(data,feature):
    plt.figure(figsize=(10,5))
    plt.subplot(1,2,1)
    sns.kdeplot(data[feature])
    plt.subplot(1,2,2)
    stats.probplot(data[feature],plot=pylab)
    plt.show()


df1['in_Units_n']=np.log(df1.KWH)
#df1['in_Units_n']=df1.in_Units**(1/1.2)
normality(df1,'in_Units_n')


