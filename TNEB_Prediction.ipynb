# %%
import pandas as pd
import matplotlib.pyplot as mp
import seaborn as sns
df = pd.read_excel('~/Documents/tneb_bill.xlsx',dtype={"Date": str})

df1 = df.copy()
df1.info()

# %%
import seaborn as sns
import matplotlib as plt 
from sklearn.preprocessing import PolynomialFeatures
from sklearn.preprocessing import StandardScaler
from sklearn.model_selection import train_test_split
from sklearn import linear_model
from sklearn.metrics import mean_squared_error, make_scorer
from sklearn.model_selection import LeaveOneOut, cross_val_score,KFold

df2 = df1[['CC Charges','KWH','in Units']]


# %%
poly = PolynomialFeatures(degree=1)
x_poly = poly.fit_transform(df2[['KWH','CC Charges']]) 
x_poly


# %%
polydf = pd.DataFrame(data = x_poly,columns = ["col1","col2","col3"])
polydf1 = pd.concat([df2, polydf], axis=1)
sns.pairplot(polydf1)

# %%
scaler = StandardScaler() 

#sns.pairplot(data=polydf1)
y = polydf1["CC Charges"]
x  = polydf1[['col1','col2','col3','in Units']]
polydfx1 = scaler.fit_transform(x) 
polydfscaled = pd.DataFrame(polydfx1, columns=x.columns)

# %%

X_train, X_test, y_train, y_test = train_test_split(polydfscaled, y, random_state=0, train_size = .75,shuffle=False)
reg = linear_model.LinearRegression()
reg.fit(X_train, y_train)

# %%
#leaveOneout implementation on TRAIN
loo = LeaveOneOut()
mse_score = make_scorer(mean_squared_error)
scores = cross_val_score(reg,X_train,y_train,cv=loo,scoring=mse_score)
scoresr2 = cross_val_score(reg,X_train,y_train,cv=loo,scoring='r2')
print("avg of loocv mse score is {}".format(scores.mean()))
print("avg of loocv r2 score is {}".format(scoresr2.mean()))

# %%
#k fold cross valiation 
k = 5
kf = KFold(n_splits=k,shuffle=False)
kfold_mse_score = cross_val_score(reg,X_train,y_train,cv=kf,scoring=mse_score)
print("avg of 3foldcv mse score is {}".format(kfold_mse_score.mean()))
kfold_r2_score = cross_val_score(reg,X_train,y_train,cv=kf,scoring='r2')
print("avg of 3foldcv r2 score is {}".format(kfold_r2_score.mean()))

# %%
# on TEST
prd = reg.predict(X_test)
mse = mean_squared_error(y_test,prd)
print("avg of mse test is {}".format(mse))


# %%
prdtr = reg.predict(X_train)
msetr = mean_squared_error(y_train,prdtr)
print("avg of mse train is {}".format(msetr))




